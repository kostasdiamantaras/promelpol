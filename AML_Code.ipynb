{
 "cells": [
  {
   "cell_type": "code",
   "execution_count": 1,
   "metadata": {},
   "outputs": [],
   "source": [
    "import pandas as pd\n",
    "import numpy as np\n",
    "import pickle\n",
    "from concurrent.futures import ProcessPoolExecutor\n",
    "import time\n",
    "import matplotlib.pyplot as plt\n",
    "%matplotlib inline\n",
    "\n",
    "# suppress warnings\n",
    "from warnings import filterwarnings\n",
    "filterwarnings(\"ignore\")\n",
    "\n",
    "from sklearn.linear_model import LinearRegression\n",
    "from sklearn.ensemble import BaggingRegressor, RandomForestRegressor\n",
    "\n",
    "from keras.models import Sequential\n",
    "from keras.layers import Dense, LSTM, Dropout"
   ]
  },
  {
   "cell_type": "markdown",
   "metadata": {},
   "source": [
    "## Prepare the data"
   ]
  },
  {
   "cell_type": "markdown",
   "metadata": {},
   "source": [
    "### Read the data\n",
    "\n",
    "* test: Kaggle prediction set\n",
    "* data: Data created in a public kernel (the xgboost kernel)"
   ]
  },
  {
   "cell_type": "code",
   "execution_count": 18,
   "metadata": {},
   "outputs": [],
   "source": [
    "test = pd.read_csv('Data/test.csv').set_index('ID')\n",
    "data = pd.read_pickle(\"data.pkl\").drop(\"delta_revenue_lag_1\", 1).astype(np.float16)"
   ]
  },
  {
   "cell_type": "markdown",
   "metadata": {},
   "source": [
    "### Get dummies for categorical data"
   ]
  },
  {
   "cell_type": "code",
   "execution_count": 3,
   "metadata": {},
   "outputs": [],
   "source": [
    "# CITY CODE DUMMIES\n",
    "dummies = pd.get_dummies(data[\"city_code\"].astype(int), prefix=\"cityCODE_\")\n",
    "data = data.join(dummies).drop([\"city_code\"], 1)\n",
    "\n",
    "# TYPE CODE DUMMIES\n",
    "dummies = pd.get_dummies(data[\"type_code\"].astype(int), prefix=\"typeCODE_\")\n",
    "data = data.join(dummies).drop([\"type_code\"], 1)\n",
    "\n",
    "# SUBTYPE CODE DUMMIES\n",
    "dummies = pd.get_dummies(data[\"subtype_code\"].astype(int), prefix=\"subtypeCODE_\")\n",
    "data = data.join(dummies).drop([\"subtype_code\"], 1)\n",
    "\n",
    "# SUBTYPE CODE DUMMIES\n",
    "dummies = pd.get_dummies(data[\"item_category_id\"].astype(int), prefix=\"item_category_idCODE_\")\n",
    "data = data.join(dummies).drop([\"item_category_id\"], 1)\n",
    "\n",
    "# Create new features to model cyclical nature of months\n",
    "data[\"month_sin\"] = np.sin(2*np.pi * data[\"date_block_num\"]/12)\n",
    "data[\"month_cos\"] = np.cos(2*np.pi * data[\"date_block_num\"]/12)\n",
    "data[\"month_sin_cos\"] = data[\"month_sin\"] + data[\"month_cos\"]\n",
    "\n",
    "# Similar thought, different way\n",
    "data[\"month_of_year\"] = data[\"date_block_num\"] % 12"
   ]
  },
  {
   "cell_type": "markdown",
   "metadata": {},
   "source": [
    "### Get train set (0-33 months) and test set (month 34)"
   ]
  },
  {
   "cell_type": "code",
   "execution_count": 6,
   "metadata": {},
   "outputs": [],
   "source": [
    "X_train = data[data.date_block_num <= 33].drop(['item_cnt_month'], axis=1)\n",
    "Y_train = data[data.date_block_num <= 33]['item_cnt_month']\n",
    "X_test = data[data.date_block_num == 34].drop(['item_cnt_month'], axis=1)\n",
    "\n",
    "# Reclaim memory\n",
    "data = None"
   ]
  },
  {
   "cell_type": "markdown",
   "metadata": {},
   "source": [
    "## Try out different models"
   ]
  },
  {
   "cell_type": "markdown",
   "metadata": {},
   "source": [
    "### RF + Bagging (kaggle + OHE + sin/cos months)\n",
    "\n",
    "#### 0.93510"
   ]
  },
  {
   "cell_type": "code",
   "execution_count": 8,
   "metadata": {
    "collapsed": true
   },
   "outputs": [
    {
     "ename": "KeyboardInterrupt",
     "evalue": "",
     "output_type": "error",
     "traceback": [
      "\u001b[0;31m---------------------------------------------------------------------------\u001b[0m",
      "\u001b[0;31mKeyboardInterrupt\u001b[0m                         Traceback (most recent call last)",
      "\u001b[0;32m<ipython-input-8-37c2cd54b727>\u001b[0m in \u001b[0;36m<module>\u001b[0;34m\u001b[0m\n\u001b[1;32m      2\u001b[0m \u001b[0mbagging\u001b[0m \u001b[0;34m=\u001b[0m \u001b[0mBaggingRegressor\u001b[0m\u001b[0;34m(\u001b[0m\u001b[0mrf\u001b[0m\u001b[0;34m,\u001b[0m \u001b[0;36m30\u001b[0m\u001b[0;34m,\u001b[0m \u001b[0mmax_samples\u001b[0m\u001b[0;34m=\u001b[0m\u001b[0;36m0.4\u001b[0m\u001b[0;34m,\u001b[0m \u001b[0mmax_features\u001b[0m\u001b[0;34m=\u001b[0m\u001b[0;36m0.7\u001b[0m\u001b[0;34m,\u001b[0m \u001b[0mn_jobs\u001b[0m\u001b[0;34m=\u001b[0m\u001b[0;36m3\u001b[0m\u001b[0;34m)\u001b[0m\u001b[0;34m\u001b[0m\u001b[0;34m\u001b[0m\u001b[0m\n\u001b[1;32m      3\u001b[0m \u001b[0;34m\u001b[0m\u001b[0m\n\u001b[0;32m----> 4\u001b[0;31m \u001b[0mbagging\u001b[0m\u001b[0;34m.\u001b[0m\u001b[0mfit\u001b[0m\u001b[0;34m(\u001b[0m\u001b[0mX_train\u001b[0m\u001b[0;34m,\u001b[0m \u001b[0mY_train\u001b[0m\u001b[0;34m)\u001b[0m\u001b[0;34m\u001b[0m\u001b[0;34m\u001b[0m\u001b[0m\n\u001b[0m",
      "\u001b[0;32m~/venv/lib/python3.6/site-packages/sklearn/ensemble/bagging.py\u001b[0m in \u001b[0;36mfit\u001b[0;34m(self, X, y, sample_weight)\u001b[0m\n\u001b[1;32m    242\u001b[0m         \u001b[0mself\u001b[0m \u001b[0;34m:\u001b[0m \u001b[0mobject\u001b[0m\u001b[0;34m\u001b[0m\u001b[0;34m\u001b[0m\u001b[0m\n\u001b[1;32m    243\u001b[0m         \"\"\"\n\u001b[0;32m--> 244\u001b[0;31m         \u001b[0;32mreturn\u001b[0m \u001b[0mself\u001b[0m\u001b[0;34m.\u001b[0m\u001b[0m_fit\u001b[0m\u001b[0;34m(\u001b[0m\u001b[0mX\u001b[0m\u001b[0;34m,\u001b[0m \u001b[0my\u001b[0m\u001b[0;34m,\u001b[0m \u001b[0mself\u001b[0m\u001b[0;34m.\u001b[0m\u001b[0mmax_samples\u001b[0m\u001b[0;34m,\u001b[0m \u001b[0msample_weight\u001b[0m\u001b[0;34m=\u001b[0m\u001b[0msample_weight\u001b[0m\u001b[0;34m)\u001b[0m\u001b[0;34m\u001b[0m\u001b[0;34m\u001b[0m\u001b[0m\n\u001b[0m\u001b[1;32m    245\u001b[0m \u001b[0;34m\u001b[0m\u001b[0m\n\u001b[1;32m    246\u001b[0m     \u001b[0;32mdef\u001b[0m \u001b[0m_fit\u001b[0m\u001b[0;34m(\u001b[0m\u001b[0mself\u001b[0m\u001b[0;34m,\u001b[0m \u001b[0mX\u001b[0m\u001b[0;34m,\u001b[0m \u001b[0my\u001b[0m\u001b[0;34m,\u001b[0m \u001b[0mmax_samples\u001b[0m\u001b[0;34m=\u001b[0m\u001b[0;32mNone\u001b[0m\u001b[0;34m,\u001b[0m \u001b[0mmax_depth\u001b[0m\u001b[0;34m=\u001b[0m\u001b[0;32mNone\u001b[0m\u001b[0;34m,\u001b[0m \u001b[0msample_weight\u001b[0m\u001b[0;34m=\u001b[0m\u001b[0;32mNone\u001b[0m\u001b[0;34m)\u001b[0m\u001b[0;34m:\u001b[0m\u001b[0;34m\u001b[0m\u001b[0;34m\u001b[0m\u001b[0m\n",
      "\u001b[0;32m~/venv/lib/python3.6/site-packages/sklearn/ensemble/bagging.py\u001b[0m in \u001b[0;36m_fit\u001b[0;34m(self, X, y, max_samples, max_depth, sample_weight)\u001b[0m\n\u001b[1;32m    376\u001b[0m                 \u001b[0mtotal_n_estimators\u001b[0m\u001b[0;34m,\u001b[0m\u001b[0;34m\u001b[0m\u001b[0;34m\u001b[0m\u001b[0m\n\u001b[1;32m    377\u001b[0m                 verbose=self.verbose)\n\u001b[0;32m--> 378\u001b[0;31m             for i in range(n_jobs))\n\u001b[0m\u001b[1;32m    379\u001b[0m \u001b[0;34m\u001b[0m\u001b[0m\n\u001b[1;32m    380\u001b[0m         \u001b[0;31m# Reduce\u001b[0m\u001b[0;34m\u001b[0m\u001b[0;34m\u001b[0m\u001b[0;34m\u001b[0m\u001b[0m\n",
      "\u001b[0;32m~/venv/lib/python3.6/site-packages/sklearn/externals/joblib/parallel.py\u001b[0m in \u001b[0;36m__call__\u001b[0;34m(self, iterable)\u001b[0m\n\u001b[1;32m    928\u001b[0m \u001b[0;34m\u001b[0m\u001b[0m\n\u001b[1;32m    929\u001b[0m             \u001b[0;32mwith\u001b[0m \u001b[0mself\u001b[0m\u001b[0;34m.\u001b[0m\u001b[0m_backend\u001b[0m\u001b[0;34m.\u001b[0m\u001b[0mretrieval_context\u001b[0m\u001b[0;34m(\u001b[0m\u001b[0;34m)\u001b[0m\u001b[0;34m:\u001b[0m\u001b[0;34m\u001b[0m\u001b[0;34m\u001b[0m\u001b[0m\n\u001b[0;32m--> 930\u001b[0;31m                 \u001b[0mself\u001b[0m\u001b[0;34m.\u001b[0m\u001b[0mretrieve\u001b[0m\u001b[0;34m(\u001b[0m\u001b[0;34m)\u001b[0m\u001b[0;34m\u001b[0m\u001b[0;34m\u001b[0m\u001b[0m\n\u001b[0m\u001b[1;32m    931\u001b[0m             \u001b[0;31m# Make sure that we get a last message telling us we are done\u001b[0m\u001b[0;34m\u001b[0m\u001b[0;34m\u001b[0m\u001b[0;34m\u001b[0m\u001b[0m\n\u001b[1;32m    932\u001b[0m             \u001b[0melapsed_time\u001b[0m \u001b[0;34m=\u001b[0m \u001b[0mtime\u001b[0m\u001b[0;34m.\u001b[0m\u001b[0mtime\u001b[0m\u001b[0;34m(\u001b[0m\u001b[0;34m)\u001b[0m \u001b[0;34m-\u001b[0m \u001b[0mself\u001b[0m\u001b[0;34m.\u001b[0m\u001b[0m_start_time\u001b[0m\u001b[0;34m\u001b[0m\u001b[0;34m\u001b[0m\u001b[0m\n",
      "\u001b[0;32m~/venv/lib/python3.6/site-packages/sklearn/externals/joblib/parallel.py\u001b[0m in \u001b[0;36mretrieve\u001b[0;34m(self)\u001b[0m\n\u001b[1;32m    831\u001b[0m             \u001b[0;32mtry\u001b[0m\u001b[0;34m:\u001b[0m\u001b[0;34m\u001b[0m\u001b[0;34m\u001b[0m\u001b[0m\n\u001b[1;32m    832\u001b[0m                 \u001b[0;32mif\u001b[0m \u001b[0mgetattr\u001b[0m\u001b[0;34m(\u001b[0m\u001b[0mself\u001b[0m\u001b[0;34m.\u001b[0m\u001b[0m_backend\u001b[0m\u001b[0;34m,\u001b[0m \u001b[0;34m'supports_timeout'\u001b[0m\u001b[0;34m,\u001b[0m \u001b[0;32mFalse\u001b[0m\u001b[0;34m)\u001b[0m\u001b[0;34m:\u001b[0m\u001b[0;34m\u001b[0m\u001b[0;34m\u001b[0m\u001b[0m\n\u001b[0;32m--> 833\u001b[0;31m                     \u001b[0mself\u001b[0m\u001b[0;34m.\u001b[0m\u001b[0m_output\u001b[0m\u001b[0;34m.\u001b[0m\u001b[0mextend\u001b[0m\u001b[0;34m(\u001b[0m\u001b[0mjob\u001b[0m\u001b[0;34m.\u001b[0m\u001b[0mget\u001b[0m\u001b[0;34m(\u001b[0m\u001b[0mtimeout\u001b[0m\u001b[0;34m=\u001b[0m\u001b[0mself\u001b[0m\u001b[0;34m.\u001b[0m\u001b[0mtimeout\u001b[0m\u001b[0;34m)\u001b[0m\u001b[0;34m)\u001b[0m\u001b[0;34m\u001b[0m\u001b[0;34m\u001b[0m\u001b[0m\n\u001b[0m\u001b[1;32m    834\u001b[0m                 \u001b[0;32melse\u001b[0m\u001b[0;34m:\u001b[0m\u001b[0;34m\u001b[0m\u001b[0;34m\u001b[0m\u001b[0m\n\u001b[1;32m    835\u001b[0m                     \u001b[0mself\u001b[0m\u001b[0;34m.\u001b[0m\u001b[0m_output\u001b[0m\u001b[0;34m.\u001b[0m\u001b[0mextend\u001b[0m\u001b[0;34m(\u001b[0m\u001b[0mjob\u001b[0m\u001b[0;34m.\u001b[0m\u001b[0mget\u001b[0m\u001b[0;34m(\u001b[0m\u001b[0;34m)\u001b[0m\u001b[0;34m)\u001b[0m\u001b[0;34m\u001b[0m\u001b[0;34m\u001b[0m\u001b[0m\n",
      "\u001b[0;32m~/venv/lib/python3.6/site-packages/sklearn/externals/joblib/_parallel_backends.py\u001b[0m in \u001b[0;36mwrap_future_result\u001b[0;34m(future, timeout)\u001b[0m\n\u001b[1;32m    519\u001b[0m         AsyncResults.get from multiprocessing.\"\"\"\n\u001b[1;32m    520\u001b[0m         \u001b[0;32mtry\u001b[0m\u001b[0;34m:\u001b[0m\u001b[0;34m\u001b[0m\u001b[0;34m\u001b[0m\u001b[0m\n\u001b[0;32m--> 521\u001b[0;31m             \u001b[0;32mreturn\u001b[0m \u001b[0mfuture\u001b[0m\u001b[0;34m.\u001b[0m\u001b[0mresult\u001b[0m\u001b[0;34m(\u001b[0m\u001b[0mtimeout\u001b[0m\u001b[0;34m=\u001b[0m\u001b[0mtimeout\u001b[0m\u001b[0;34m)\u001b[0m\u001b[0;34m\u001b[0m\u001b[0;34m\u001b[0m\u001b[0m\n\u001b[0m\u001b[1;32m    522\u001b[0m         \u001b[0;32mexcept\u001b[0m \u001b[0mLokyTimeoutError\u001b[0m\u001b[0;34m:\u001b[0m\u001b[0;34m\u001b[0m\u001b[0;34m\u001b[0m\u001b[0m\n\u001b[1;32m    523\u001b[0m             \u001b[0;32mraise\u001b[0m \u001b[0mTimeoutError\u001b[0m\u001b[0;34m(\u001b[0m\u001b[0;34m)\u001b[0m\u001b[0;34m\u001b[0m\u001b[0;34m\u001b[0m\u001b[0m\n",
      "\u001b[0;32m/usr/lib/python3.6/concurrent/futures/_base.py\u001b[0m in \u001b[0;36mresult\u001b[0;34m(self, timeout)\u001b[0m\n\u001b[1;32m    425\u001b[0m                 \u001b[0;32mreturn\u001b[0m \u001b[0mself\u001b[0m\u001b[0;34m.\u001b[0m\u001b[0m__get_result\u001b[0m\u001b[0;34m(\u001b[0m\u001b[0;34m)\u001b[0m\u001b[0;34m\u001b[0m\u001b[0;34m\u001b[0m\u001b[0m\n\u001b[1;32m    426\u001b[0m \u001b[0;34m\u001b[0m\u001b[0m\n\u001b[0;32m--> 427\u001b[0;31m             \u001b[0mself\u001b[0m\u001b[0;34m.\u001b[0m\u001b[0m_condition\u001b[0m\u001b[0;34m.\u001b[0m\u001b[0mwait\u001b[0m\u001b[0;34m(\u001b[0m\u001b[0mtimeout\u001b[0m\u001b[0;34m)\u001b[0m\u001b[0;34m\u001b[0m\u001b[0;34m\u001b[0m\u001b[0m\n\u001b[0m\u001b[1;32m    428\u001b[0m \u001b[0;34m\u001b[0m\u001b[0m\n\u001b[1;32m    429\u001b[0m             \u001b[0;32mif\u001b[0m \u001b[0mself\u001b[0m\u001b[0;34m.\u001b[0m\u001b[0m_state\u001b[0m \u001b[0;32min\u001b[0m \u001b[0;34m[\u001b[0m\u001b[0mCANCELLED\u001b[0m\u001b[0;34m,\u001b[0m \u001b[0mCANCELLED_AND_NOTIFIED\u001b[0m\u001b[0;34m]\u001b[0m\u001b[0;34m:\u001b[0m\u001b[0;34m\u001b[0m\u001b[0;34m\u001b[0m\u001b[0m\n",
      "\u001b[0;32m/usr/lib/python3.6/threading.py\u001b[0m in \u001b[0;36mwait\u001b[0;34m(self, timeout)\u001b[0m\n\u001b[1;32m    293\u001b[0m         \u001b[0;32mtry\u001b[0m\u001b[0;34m:\u001b[0m    \u001b[0;31m# restore state no matter what (e.g., KeyboardInterrupt)\u001b[0m\u001b[0;34m\u001b[0m\u001b[0;34m\u001b[0m\u001b[0m\n\u001b[1;32m    294\u001b[0m             \u001b[0;32mif\u001b[0m \u001b[0mtimeout\u001b[0m \u001b[0;32mis\u001b[0m \u001b[0;32mNone\u001b[0m\u001b[0;34m:\u001b[0m\u001b[0;34m\u001b[0m\u001b[0;34m\u001b[0m\u001b[0m\n\u001b[0;32m--> 295\u001b[0;31m                 \u001b[0mwaiter\u001b[0m\u001b[0;34m.\u001b[0m\u001b[0macquire\u001b[0m\u001b[0;34m(\u001b[0m\u001b[0;34m)\u001b[0m\u001b[0;34m\u001b[0m\u001b[0;34m\u001b[0m\u001b[0m\n\u001b[0m\u001b[1;32m    296\u001b[0m                 \u001b[0mgotit\u001b[0m \u001b[0;34m=\u001b[0m \u001b[0;32mTrue\u001b[0m\u001b[0;34m\u001b[0m\u001b[0;34m\u001b[0m\u001b[0m\n\u001b[1;32m    297\u001b[0m             \u001b[0;32melse\u001b[0m\u001b[0;34m:\u001b[0m\u001b[0;34m\u001b[0m\u001b[0;34m\u001b[0m\u001b[0m\n",
      "\u001b[0;31mKeyboardInterrupt\u001b[0m: "
     ]
    }
   ],
   "source": [
    "rf = RandomForestRegressor(30, max_depth=9, n_jobs=2)\n",
    "bagging = BaggingRegressor(rf, 30, max_samples=0.4, max_features=0.7, n_jobs=3)\n",
    "\n",
    "bagging.fit(X_train, Y_train)"
   ]
  },
  {
   "cell_type": "code",
   "execution_count": null,
   "metadata": {},
   "outputs": [],
   "source": [
    "Y_pred = bagging.predict(X_test)\n",
    "\n",
    "submission = pd.DataFrame({\n",
    "    \"ID\": test.index, \n",
    "    \"item_cnt_month\": Y_pred\n",
    "})\n",
    "\n",
    "submission[\"item_cnt_month\"] = submission[\"item_cnt_month\"].clip(0,20)\n",
    "submission.to_csv(\"simple_bagging_trigonometric.csv\", index=False)"
   ]
  },
  {
   "cell_type": "markdown",
   "metadata": {},
   "source": [
    "### Create a model for each shop: Do simple (linear) time series decomposition: find the monthly index and add to it the extrapolated trend calculated with linear regression\n",
    "\n",
    "#### 1.28145"
   ]
  },
  {
   "cell_type": "code",
   "execution_count": null,
   "metadata": {},
   "outputs": [],
   "source": [
    "def fit_model(params):\n",
    "\n",
    "    i, shop_id, item_id = params\n",
    "    \n",
    "    # Report on progress\n",
    "    if i % 10_000 == 0 and i>0:\n",
    "        print((i)/len(test)*100, \"% done\")\n",
    "\n",
    "    try:\n",
    "        # select the subset of the dataset\n",
    "        given_item = X_train[(X_train[\"item_id\"]==item_id) & (X_train[\"shop_id\"]==shop_id)].copy()\n",
    "\n",
    "        ### Create rows for all missing months, and join the given item\n",
    "\n",
    "        # Convert to int, just in case\n",
    "        given_item[\"date_block_num\"] = given_item[\"date_block_num\"].astype(np.int8)\n",
    "\n",
    "        # Create empty dataframes for joining (and debugging) purposes\n",
    "        new_index = pd.Index(np.arange(12, 34, dtype=np.int8), name=\"date_block_num\", dtype=np.int8)\n",
    "        empty = pd.DataFrame(np.arange(12,34), index=new_index, columns=[\"date_block_num\"])\n",
    "\n",
    "        given_item = empty.merge(given_item.set_index(\"date_block_num\"),\n",
    "                 how='left', left_on=\"date_block_num\", right_on=\"date_block_num\",)\n",
    "\n",
    "        # Fill empty with first observed value\n",
    "        given_item.fillna(given_item.loc[~given_item.isnull().sum(1).astype(bool)].iloc[0], inplace=True)\n",
    "\n",
    "        ### Calculate the trend\n",
    "\n",
    "        trend = given_item.groupby(\"date_block_num\").mean().rolling(12).mean().reset_index()\n",
    "\n",
    "        # Fill empty with first observed value\n",
    "        trend.fillna(trend.loc[~trend.isnull().sum(1).astype(bool)].iloc[0], inplace=True)\n",
    "\n",
    "        merged = pd.merge(given_item, trend, how='left', on=\"date_block_num\")\n",
    "\n",
    "        # Data are now detrended\n",
    "        for col in given_item.columns[1:-4]:\n",
    "            given_item[col] = merged[[col+\"_x\"]].values - merged[[col+\"_y\"]].values\n",
    "\n",
    "        # Fill empty with first non-nan row\n",
    "        given_item.fillna(given_item.loc[~given_item.isnull().sum(1).astype(bool)].iloc[0], inplace=True)\n",
    "\n",
    "\n",
    "        ### Calculate and remove seasonal indexes\n",
    "        # (for all columns except: date_block_num, month_sin, month_cos, month_sin_cos, month_of_year)\n",
    "\n",
    "        month_indexes = given_item.groupby(\"month_of_year\").mean().reset_index()\n",
    "\n",
    "        merged = pd.merge(given_item, month_indexes, how='left', on=\"month_of_year\")\n",
    "\n",
    "        # Data are now stationary\n",
    "        for col in given_item.columns[1:-4]:\n",
    "            given_item[col] = merged[[col+\"_x\"]].values - merged[[col+\"_y\"]].values\n",
    "\n",
    "        # Reclaim memory\n",
    "        merged = None\n",
    "\n",
    "        ### Estimate the trend of month 34\n",
    "        lr = LinearRegression()\n",
    "        lr.fit(trend[11:21], trend[12:22])\n",
    "        month34_trend = pd.DataFrame(lr.predict(trend[12:22])[-1:], columns=trend.columns)\n",
    "        month34_trend\n",
    "\n",
    "        ### Estimate the monthly index of month 34 (November, aka 10)\n",
    "        month34_monthly_index = month_indexes[10:11].copy()\n",
    "\n",
    "        ### Predict !\n",
    "        predictions = pd.DataFrame(month34_trend.values + month34_monthly_index[month34_trend.columns].values, \n",
    "                                   columns=given_item.columns)[\"item_cnt_month\"].values[0]\n",
    "    except:\n",
    "        # If ANY error occurs\n",
    "        predictions = 0\n",
    "        \n",
    "    return predictions"
   ]
  },
  {
   "cell_type": "code",
   "execution_count": null,
   "metadata": {
    "scrolled": false
   },
   "outputs": [],
   "source": [
    "# Run the training over multiple processors\n",
    "\n",
    "definition_start = time.time()\n",
    "\n",
    "with ProcessPoolExecutor(max_workers=6) as p:\n",
    "    returned = p.map(fit_model, [(i, shop_id,item_id) for i, (shop_id, item_id) in test.iterrows()])\n",
    "\n",
    "definition_end = time.time()\n",
    "    \n",
    "ret = list(returned)\n",
    "\n",
    "end = time.time()\n",
    "\n",
    "print(f\"Total time: {end - definition_start:.2f} seconds\")\n",
    "print(f\"Pool executor time: {definition_end - definition_start:.2f} seconds\")\n",
    "print(f\"List time: {end - definition_end:.2f} seconds\")"
   ]
  },
  {
   "cell_type": "code",
   "execution_count": null,
   "metadata": {},
   "outputs": [],
   "source": [
    "submission = pd.DataFrame({\n",
    "    \"ID\": test.index, \n",
    "    \"item_cnt_month\": ret\n",
    "})\n",
    "\n",
    "submission[\"item_cnt_month\"] = submission[\"item_cnt_month\"].clip(0,20)\n",
    "submission.to_csv(\"one_model_per_shop_item_simple_decomposition.csv\", index=False)"
   ]
  },
  {
   "cell_type": "markdown",
   "metadata": {},
   "source": [
    "### RF + Bagging (40 features from kaggle)\n",
    "\n",
    "#### 0.92310"
   ]
  },
  {
   "cell_type": "code",
   "execution_count": null,
   "metadata": {},
   "outputs": [],
   "source": [
    "rf = RandomForestRegressor(20, max_depth=8, n_jobs=2)\n",
    "bagging = BaggingRegressor(rf, 20, max_samples=0.3, max_features=0.7, n_jobs=2)\n",
    "\n",
    "bagging.fit(X_train, Y_train)"
   ]
  },
  {
   "cell_type": "code",
   "execution_count": null,
   "metadata": {},
   "outputs": [],
   "source": [
    "Y_pred = bagging.predict(X_test)\n",
    "\n",
    "submission = pd.DataFrame({\n",
    "    \"ID\": test.index, \n",
    "    \"item_cnt_month\": Y_pred\n",
    "})\n",
    "\n",
    "submission[\"item_cnt_month\"] = submission[\"item_cnt_month\"].clip(0,20)\n",
    "submission.to_csv(\"simple_bagging2.csv\", index=False)"
   ]
  },
  {
   "cell_type": "markdown",
   "metadata": {},
   "source": [
    "### LSTM without time dimension (i.e. 1 step)"
   ]
  },
  {
   "cell_type": "code",
   "execution_count": 11,
   "metadata": {},
   "outputs": [
    {
     "name": "stdout",
     "output_type": "stream",
     "text": [
      "_________________________________________________________________\n",
      "Layer (type)                 Output Shape              Param #   \n",
      "=================================================================\n",
      "lstm_1 (LSTM)                (None, 64)                76032     \n",
      "_________________________________________________________________\n",
      "dense_1 (Dense)              (None, 1)                 65        \n",
      "=================================================================\n",
      "Total params: 76,097\n",
      "Trainable params: 76,097\n",
      "Non-trainable params: 0\n",
      "_________________________________________________________________\n"
     ]
    }
   ],
   "source": [
    "model_lstm = Sequential()\n",
    "model_lstm.add(LSTM(64, input_shape=(1, len(X_train.columns))))\n",
    "model_lstm.add(Dense(1))\n",
    "\n",
    "model_lstm.compile(loss='mean_squared_error', optimizer='adam', metrics=['mean_squared_error'])\n",
    "\n",
    "model_lstm.summary()"
   ]
  },
  {
   "cell_type": "code",
   "execution_count": 13,
   "metadata": {
    "scrolled": true
   },
   "outputs": [
    {
     "name": "stdout",
     "output_type": "stream",
     "text": [
      "Train on 5461329 samples, validate on 963765 samples\n",
      "Epoch 1/20\n",
      "5461329/5461329 [==============================] - 35s 6us/step - loss: 1.2004 - mean_squared_error: 1.2004 - val_loss: 0.9542 - val_mean_squared_error: 0.9542\n",
      "Epoch 2/20\n",
      "5461329/5461329 [==============================] - 36s 7us/step - loss: 1.0383 - mean_squared_error: 1.0383 - val_loss: 0.9311 - val_mean_squared_error: 0.9311\n",
      "Epoch 3/20\n",
      "5461329/5461329 [==============================] - 36s 7us/step - loss: 0.9960 - mean_squared_error: 0.9960 - val_loss: 0.8048 - val_mean_squared_error: 0.8048\n",
      "Epoch 4/20\n",
      "5461329/5461329 [==============================] - 37s 7us/step - loss: 0.9540 - mean_squared_error: 0.9540 - val_loss: 0.8652 - val_mean_squared_error: 0.8652\n",
      "Epoch 5/20\n",
      "5461329/5461329 [==============================] - 36s 7us/step - loss: 0.9579 - mean_squared_error: 0.9579 - val_loss: 0.7883 - val_mean_squared_error: 0.7883\n",
      "Epoch 6/20\n",
      "5461329/5461329 [==============================] - 37s 7us/step - loss: 0.9512 - mean_squared_error: 0.9512 - val_loss: 0.8256 - val_mean_squared_error: 0.8256\n",
      "Epoch 7/20\n",
      "5461329/5461329 [==============================] - 37s 7us/step - loss: 0.9308 - mean_squared_error: 0.9308 - val_loss: 0.7913 - val_mean_squared_error: 0.7913\n",
      "Epoch 8/20\n",
      "5461329/5461329 [==============================] - 37s 7us/step - loss: 0.9218 - mean_squared_error: 0.9218 - val_loss: 0.7626 - val_mean_squared_error: 0.7626\n",
      "Epoch 9/20\n",
      "5461329/5461329 [==============================] - 37s 7us/step - loss: 0.9187 - mean_squared_error: 0.9187 - val_loss: 0.7784 - val_mean_squared_error: 0.7784\n",
      "Epoch 10/20\n",
      "5461329/5461329 [==============================] - 37s 7us/step - loss: 0.9162 - mean_squared_error: 0.9162 - val_loss: 0.7652 - val_mean_squared_error: 0.7652\n",
      "Epoch 11/20\n",
      "5461329/5461329 [==============================] - 37s 7us/step - loss: 0.9257 - mean_squared_error: 0.9257 - val_loss: 0.7939 - val_mean_squared_error: 0.7939\n",
      "Epoch 12/20\n",
      "5461329/5461329 [==============================] - 37s 7us/step - loss: 0.9218 - mean_squared_error: 0.9218 - val_loss: 0.7707 - val_mean_squared_error: 0.7707\n",
      "Epoch 13/20\n",
      "5461329/5461329 [==============================] - 38s 7us/step - loss: 0.9183 - mean_squared_error: 0.9183 - val_loss: 0.7925 - val_mean_squared_error: 0.7925\n",
      "Epoch 14/20\n",
      "5461329/5461329 [==============================] - 37s 7us/step - loss: 0.9220 - mean_squared_error: 0.9220 - val_loss: 0.8069 - val_mean_squared_error: 0.8069\n",
      "Epoch 15/20\n",
      "5461329/5461329 [==============================] - 37s 7us/step - loss: 0.9191 - mean_squared_error: 0.9191 - val_loss: 0.7952 - val_mean_squared_error: 0.7952\n",
      "Epoch 16/20\n",
      "5461329/5461329 [==============================] - 37s 7us/step - loss: 0.9164 - mean_squared_error: 0.9164 - val_loss: 0.7751 - val_mean_squared_error: 0.7751\n",
      "Epoch 17/20\n",
      "5461329/5461329 [==============================] - 36s 7us/step - loss: 0.8936 - mean_squared_error: 0.8936 - val_loss: 0.7639 - val_mean_squared_error: 0.7639\n",
      "Epoch 18/20\n",
      "5461329/5461329 [==============================] - 37s 7us/step - loss: 0.8935 - mean_squared_error: 0.8935 - val_loss: 0.7547 - val_mean_squared_error: 0.7547\n",
      "Epoch 19/20\n",
      "5461329/5461329 [==============================] - 37s 7us/step - loss: 0.8810 - mean_squared_error: 0.8810 - val_loss: 0.7486 - val_mean_squared_error: 0.7486\n",
      "Epoch 20/20\n",
      "5461329/5461329 [==============================] - 38s 7us/step - loss: 0.8872 - mean_squared_error: 0.8872 - val_loss: 0.7599 - val_mean_squared_error: 0.7599\n"
     ]
    }
   ],
   "source": [
    "h = model_lstm.fit(X_train.values.reshape((-1, 1, len(X_train.columns))), \n",
    "                   Y_train.values.reshape((-1, 1)), batch_size=2048, epochs=20,\n",
    "                  validation_split=0.15)"
   ]
  },
  {
   "cell_type": "code",
   "execution_count": 14,
   "metadata": {},
   "outputs": [
    {
     "data": {
      "text/plain": [
       "[<matplotlib.lines.Line2D at 0x7fcdd9602dd8>]"
      ]
     },
     "execution_count": 14,
     "metadata": {},
     "output_type": "execute_result"
    },
    {
     "data": {
      "image/png": "[encoded data removed]",
      "text/plain": [
       "<Figure size 432x288 with 1 Axes>"
      ]
     },
     "metadata": {
      "needs_background": "light"
     },
     "output_type": "display_data"
    }
   ],
   "source": [
    "plt.plot(h.history[\"loss\"])\n",
    "plt.plot(h.history[\"val_loss\"])"
   ]
  },
  {
   "cell_type": "code",
   "execution_count": 19,
   "metadata": {},
   "outputs": [],
   "source": [
    "Y_pred = model_lstm.predict(X_test.values.reshape((-1, 1, len(X_train.columns))))\n",
    "\n",
    "submission = pd.DataFrame({\n",
    "    \"ID\": test.index, \n",
    "    \"item_cnt_month\": Y_pred.reshape((-1,))\n",
    "})\n",
    "\n",
    "submission[\"item_cnt_month\"] = submission[\"item_cnt_month\"].clip(0,20)\n",
    "submission.to_csv(\"simple_lstm31May.csv\", index=False)"
   ]
  },
  {
   "cell_type": "markdown",
   "metadata": {},
   "source": [
    "#### 0.92726 (0.98251 for 20 epochs)"
   ]
  },
  {
   "cell_type": "code",
   "execution_count": 38,
   "metadata": {},
   "outputs": [],
   "source": [
    "Y_pred = model_lstm.predict(X_test.values.reshape((-1, 1, len(X_train.columns))))\n",
    "\n",
    "submission = pd.DataFrame({\n",
    "    \"ID\": test.index, \n",
    "    \"item_cnt_month\": Y_pred.reshape((-1,))\n",
    "})\n",
    "\n",
    "submission[\"item_cnt_month\"] = submission[\"item_cnt_month\"].clip(0,20)\n",
    "submission.to_csv(\"simple_lstm.csv\", index=False)"
   ]
  },
  {
   "cell_type": "markdown",
   "metadata": {},
   "source": [
    "### Try a different model \n",
    "#### 0.92726"
   ]
  },
  {
   "cell_type": "code",
   "execution_count": 27,
   "metadata": {},
   "outputs": [
    {
     "name": "stdout",
     "output_type": "stream",
     "text": [
      "_________________________________________________________________\n",
      "Layer (type)                 Output Shape              Param #   \n",
      "=================================================================\n",
      "lstm_5 (LSTM)                (None, 128)               184832    \n",
      "_________________________________________________________________\n",
      "dropout_8 (Dropout)          (None, 128)               0         \n",
      "_________________________________________________________________\n",
      "dense_14 (Dense)             (None, 128)               16512     \n",
      "_________________________________________________________________\n",
      "dense_15 (Dense)             (None, 256)               33024     \n",
      "_________________________________________________________________\n",
      "dropout_9 (Dropout)          (None, 256)               0         \n",
      "_________________________________________________________________\n",
      "dense_16 (Dense)             (None, 128)               32896     \n",
      "_________________________________________________________________\n",
      "dropout_10 (Dropout)         (None, 128)               0         \n",
      "_________________________________________________________________\n",
      "dense_17 (Dense)             (None, 1)                 129       \n",
      "=================================================================\n",
      "Total params: 267,393\n",
      "Trainable params: 267,393\n",
      "Non-trainable params: 0\n",
      "_________________________________________________________________\n"
     ]
    }
   ],
   "source": [
    "model_lstm = Sequential()\n",
    "model_lstm.add(LSTM(128, input_shape=(1, len(X_train.columns))))\n",
    "model_lstm.add(Dropout(0.4))\n",
    "model_lstm.add(Dense(128))\n",
    "model_lstm.add(Dense(256))\n",
    "model_lstm.add(Dropout(0.5))\n",
    "model_lstm.add(Dense(128))\n",
    "model_lstm.add(Dropout(0.2))\n",
    "model_lstm.add(Dense(1))\n",
    "model_lstm.compile(loss='mean_squared_error', optimizer='adam', metrics=['mean_squared_error'])\n",
    "\n",
    "model_lstm.summary()"
   ]
  },
  {
   "cell_type": "code",
   "execution_count": 29,
   "metadata": {
    "scrolled": true
   },
   "outputs": [
    {
     "name": "stdout",
     "output_type": "stream",
     "text": [
      "Train on 5140075 samples, validate on 1285019 samples\n",
      "Epoch 1/30\n",
      "5140075/5140075 [==============================] - 39s 8us/step - loss: 1.1832 - mean_squared_error: 1.1832 - val_loss: 0.9255 - val_mean_squared_error: 0.9255\n",
      "Epoch 2/30\n",
      "5140075/5140075 [==============================] - 38s 7us/step - loss: 1.1836 - mean_squared_error: 1.1836 - val_loss: 0.8847 - val_mean_squared_error: 0.8847\n",
      "Epoch 3/30\n",
      "5140075/5140075 [==============================] - 39s 8us/step - loss: 1.1511 - mean_squared_error: 1.1511 - val_loss: 0.8463 - val_mean_squared_error: 0.8463\n",
      "Epoch 4/30\n",
      "5140075/5140075 [==============================] - 37s 7us/step - loss: 1.1904 - mean_squared_error: 1.1904 - val_loss: 0.8989 - val_mean_squared_error: 0.8989\n",
      "Epoch 5/30\n",
      "5140075/5140075 [==============================] - 37s 7us/step - loss: 1.1039 - mean_squared_error: 1.1039 - val_loss: 0.8624 - val_mean_squared_error: 0.8624\n",
      "Epoch 6/30\n",
      "5140075/5140075 [==============================] - 38s 7us/step - loss: 1.1059 - mean_squared_error: 1.1059 - val_loss: 0.8375 - val_mean_squared_error: 0.8375\n",
      "Epoch 7/30\n",
      "5140075/5140075 [==============================] - 37s 7us/step - loss: 1.0966 - mean_squared_error: 1.0966 - val_loss: 0.8410 - val_mean_squared_error: 0.8410\n",
      "Epoch 8/30\n",
      "5140075/5140075 [==============================] - 37s 7us/step - loss: 1.0871 - mean_squared_error: 1.0871 - val_loss: 0.8873 - val_mean_squared_error: 0.8873\n",
      "Epoch 9/30\n",
      "5140075/5140075 [==============================] - 37s 7us/step - loss: 1.1061 - mean_squared_error: 1.1061 - val_loss: 0.8937 - val_mean_squared_error: 0.8937\n",
      "Epoch 10/30\n",
      "5140075/5140075 [==============================] - 37s 7us/step - loss: 1.0862 - mean_squared_error: 1.0862 - val_loss: 0.9073 - val_mean_squared_error: 0.9073\n",
      "Epoch 11/30\n",
      "5140075/5140075 [==============================] - 37s 7us/step - loss: 1.0836 - mean_squared_error: 1.0836 - val_loss: 0.8445 - val_mean_squared_error: 0.8445\n",
      "Epoch 12/30\n",
      "5140075/5140075 [==============================] - 37s 7us/step - loss: 1.0677 - mean_squared_error: 1.0677 - val_loss: 0.8190 - val_mean_squared_error: 0.8190\n",
      "Epoch 13/30\n",
      "5140075/5140075 [==============================] - 37s 7us/step - loss: 1.0618 - mean_squared_error: 1.0618 - val_loss: 0.8337 - val_mean_squared_error: 0.8337\n",
      "Epoch 14/30\n",
      "5140075/5140075 [==============================] - 37s 7us/step - loss: 1.0912 - mean_squared_error: 1.0912 - val_loss: 0.8154 - val_mean_squared_error: 0.8154\n",
      "Epoch 15/30\n",
      "5140075/5140075 [==============================] - 37s 7us/step - loss: 1.0894 - mean_squared_error: 1.0894 - val_loss: 0.8195 - val_mean_squared_error: 0.8195\n",
      "Epoch 16/30\n",
      "5140075/5140075 [==============================] - 37s 7us/step - loss: 1.0538 - mean_squared_error: 1.0538 - val_loss: 0.8079 - val_mean_squared_error: 0.8079\n",
      "Epoch 17/30\n",
      "5140075/5140075 [==============================] - 37s 7us/step - loss: 1.0738 - mean_squared_error: 1.0738 - val_loss: 0.8687 - val_mean_squared_error: 0.8687\n",
      "Epoch 18/30\n",
      "5140075/5140075 [==============================] - 37s 7us/step - loss: 1.0559 - mean_squared_error: 1.0559 - val_loss: 0.8228 - val_mean_squared_error: 0.8228\n",
      "Epoch 19/30\n",
      "5140075/5140075 [==============================] - 37s 7us/step - loss: 1.0505 - mean_squared_error: 1.0505 - val_loss: 0.8018 - val_mean_squared_error: 0.8018\n",
      "Epoch 20/30\n",
      "5140075/5140075 [==============================] - 37s 7us/step - loss: 1.0432 - mean_squared_error: 1.0432 - val_loss: 0.8330 - val_mean_squared_error: 0.8330\n",
      "Epoch 21/30\n",
      "5140075/5140075 [==============================] - 37s 7us/step - loss: 1.0388 - mean_squared_error: 1.0388 - val_loss: 0.8374 - val_mean_squared_error: 0.8374\n",
      "Epoch 22/30\n",
      "5140075/5140075 [==============================] - 38s 7us/step - loss: 1.0415 - mean_squared_error: 1.0415 - val_loss: 0.8173 - val_mean_squared_error: 0.8173\n",
      "Epoch 23/30\n",
      "5140075/5140075 [==============================] - 39s 8us/step - loss: 1.0372 - mean_squared_error: 1.0372 - val_loss: 0.8124 - val_mean_squared_error: 0.8124\n",
      "Epoch 24/30\n",
      "5140075/5140075 [==============================] - 39s 8us/step - loss: 1.0433 - mean_squared_error: 1.0433 - val_loss: 0.8241 - val_mean_squared_error: 0.8241\n",
      "Epoch 25/30\n",
      "5140075/5140075 [==============================] - 39s 8us/step - loss: 1.0288 - mean_squared_error: 1.0288 - val_loss: 0.8180 - val_mean_squared_error: 0.8180\n",
      "Epoch 26/30\n",
      "5140075/5140075 [==============================] - 39s 8us/step - loss: 1.0292 - mean_squared_error: 1.0292 - val_loss: 0.8493 - val_mean_squared_error: 0.8493\n",
      "Epoch 27/30\n",
      "5140075/5140075 [==============================] - 39s 8us/step - loss: 1.0339 - mean_squared_error: 1.0339 - val_loss: 0.8398 - val_mean_squared_error: 0.8398\n",
      "Epoch 28/30\n",
      "5140075/5140075 [==============================] - 40s 8us/step - loss: 1.0346 - mean_squared_error: 1.0346 - val_loss: 0.8295 - val_mean_squared_error: 0.8295\n",
      "Epoch 29/30\n",
      "5140075/5140075 [==============================] - 40s 8us/step - loss: 1.0333 - mean_squared_error: 1.0333 - val_loss: 0.8055 - val_mean_squared_error: 0.8055\n",
      "Epoch 30/30\n",
      "5140075/5140075 [==============================] - 39s 8us/step - loss: 1.0320 - mean_squared_error: 1.0320 - val_loss: 0.8127 - val_mean_squared_error: 0.8127\n"
     ]
    }
   ],
   "source": [
    "h = model_lstm.fit(X_train.values.reshape((-1, 1, len(X_train.columns))), \n",
    "                   Y_train.values.reshape((-1, 1)), batch_size=2048, epochs=30,\n",
    "                   validation_split=0.20)"
   ]
  },
  {
   "cell_type": "code",
   "execution_count": 30,
   "metadata": {},
   "outputs": [
    {
     "data": {
      "text/plain": [
       "[<matplotlib.lines.Line2D at 0x7fcd72ebcb38>]"
      ]
     },
     "execution_count": 30,
     "metadata": {},
     "output_type": "execute_result"
    },
    {
     "data": {
      "image/png": "[encoded data removed]",
      "text/plain": [
       "<Figure size 432x288 with 1 Axes>"
      ]
     },
     "metadata": {
      "needs_background": "light"
     },
     "output_type": "display_data"
    }
   ],
   "source": [
    "plt.plot(h.history[\"loss\"])\n",
    "plt.plot(h.history[\"val_loss\"])"
   ]
  },
  {
   "cell_type": "code",
   "execution_count": 31,
   "metadata": {},
   "outputs": [],
   "source": [
    "Y_pred = model_lstm.predict(X_test.values.reshape((-1, 1, len(X_train.columns))))\n",
    "\n",
    "submission = pd.DataFrame({\n",
    "    \"ID\": test.index, \n",
    "    \"item_cnt_month\": Y_pred.reshape((-1,))\n",
    "})\n",
    "\n",
    "submission[\"item_cnt_month\"] = submission[\"item_cnt_month\"].clip(0,20)\n",
    "submission.to_csv(\"dense_lstm31Mayv2.csv\", index=False)"
   ]
  },
  {
   "cell_type": "markdown",
   "metadata": {},
   "source": [
    "### Voting Regressor: simple average the 3 previous models\n",
    "\n",
    "#### 1.03699"
   ]
  },
  {
   "cell_type": "code",
   "execution_count": 198,
   "metadata": {},
   "outputs": [],
   "source": [
    "df1 = pd.read_csv(\"simple_bagging.csv\")\n",
    "df2 = pd.read_csv(\"simple_bagging2.csv\")\n",
    "df3 = pd.read_csv(\"simple_lstm.csv\")\n",
    "\n",
    "df1[\"item_cnt_month\"] = (df1[\"item_cnt_month\"] + df2[\"item_cnt_month\"] + df3[\"item_cnt_month\"])/3\n",
    "df1.to_csv(\"simple_voting.csv\", index=False)"
   ]
  }
 ],
 "metadata": {
  "kernelspec": {
   "display_name": "Python 2",
   "language": "python",
   "name": "python2"
  },
  "language_info": {
   "codemirror_mode": {
    "name": "ipython",
    "version": 2
   },
   "file_extension": ".py",
   "mimetype": "text/x-python",
   "name": "python",
   "nbconvert_exporter": "python",
   "pygments_lexer": "ipython2",
   "version": "2.7.15"
  }
 },
 "nbformat": 4,
 "nbformat_minor": 2
}
